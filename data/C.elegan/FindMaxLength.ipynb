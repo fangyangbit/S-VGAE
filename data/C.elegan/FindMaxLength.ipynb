{
 "cells": [
  {
   "cell_type": "code",
   "execution_count": 5,
   "metadata": {},
   "outputs": [
    {
     "name": "stdout",
     "output_type": "stream",
     "text": [
      "Mean sequence length: 483.00560398505604, Median sequence length: 395.5, Max sequence length: 4281.0\n"
     ]
    }
   ],
   "source": [
    "    import numpy as np\n",
    "    import sys\n",
    "    data='sequenceList.txt'\n",
    "    lines = open(data, 'r')\n",
    "    proteins = np.array([])\n",
    "    skip = lines.readline()\n",
    "    for line in lines.readlines():\n",
    "      #  print(line)\n",
    "        proteins = np.append( proteins, [len(line.split(\" \")[0])] )\n",
    "    lines.close()\n",
    "    mean = float(np.sum( proteins )) / len( proteins )\n",
    "    median = np.median( proteins )\n",
    "    maxi = np.amax( proteins )        \n",
    "    print(\"Mean sequence length: {}, Median sequence length: {}, Max sequence length: {}\".format( mean, median, maxi ) )\n",
    "            \n"
   ]
  },
  {
   "cell_type": "code",
   "execution_count": null,
   "metadata": {
    "collapsed": true
   },
   "outputs": [],
   "source": []
  }
 ],
 "metadata": {
  "kernelspec": {
   "display_name": "Python 3",
   "language": "python",
   "name": "python3"
  },
  "language_info": {
   "codemirror_mode": {
    "name": "ipython",
    "version": 3
   },
   "file_extension": ".py",
   "mimetype": "text/x-python",
   "name": "python",
   "nbconvert_exporter": "python",
   "pygments_lexer": "ipython3",
   "version": "3.6.3"
  }
 },
 "nbformat": 4,
 "nbformat_minor": 2
}
